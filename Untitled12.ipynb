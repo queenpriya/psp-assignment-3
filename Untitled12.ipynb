{
 "cells": [
  {
   "cell_type": "code",
   "execution_count": 4,
   "metadata": {},
   "outputs": [
    {
     "name": "stdout",
     "output_type": "stream",
     "text": [
      "Requirement already satisfied: seaborn in c:\\users\\harshit\\anaconda3\\lib\\site-packages (0.10.1)\n",
      "Requirement already satisfied: scipy>=1.0.1 in c:\\users\\harshit\\anaconda3\\lib\\site-packages (from seaborn) (1.5.0)\n",
      "Requirement already satisfied: matplotlib>=2.1.2 in c:\\users\\harshit\\anaconda3\\lib\\site-packages (from seaborn) (3.2.2)\n",
      "Requirement already satisfied: numpy>=1.13.3 in c:\\users\\harshit\\anaconda3\\lib\\site-packages (from seaborn) (1.18.5)\n",
      "Requirement already satisfied: pandas>=0.22.0 in c:\\users\\harshit\\anaconda3\\lib\\site-packages (from seaborn) (1.0.5)\n",
      "Requirement already satisfied: pyparsing!=2.0.4,!=2.1.2,!=2.1.6,>=2.0.1 in c:\\users\\harshit\\anaconda3\\lib\\site-packages (from matplotlib>=2.1.2->seaborn) (2.4.7)\n",
      "Requirement already satisfied: kiwisolver>=1.0.1 in c:\\users\\harshit\\anaconda3\\lib\\site-packages (from matplotlib>=2.1.2->seaborn) (1.2.0)\n",
      "Requirement already satisfied: python-dateutil>=2.1 in c:\\users\\harshit\\anaconda3\\lib\\site-packages (from matplotlib>=2.1.2->seaborn) (2.8.1)\n",
      "Requirement already satisfied: cycler>=0.10 in c:\\users\\harshit\\anaconda3\\lib\\site-packages (from matplotlib>=2.1.2->seaborn) (0.10.0)\n",
      "Requirement already satisfied: pytz>=2017.2 in c:\\users\\harshit\\anaconda3\\lib\\site-packages (from pandas>=0.22.0->seaborn) (2020.1)\n",
      "Requirement already satisfied: six>=1.5 in c:\\users\\harshit\\anaconda3\\lib\\site-packages (from python-dateutil>=2.1->matplotlib>=2.1.2->seaborn) (1.15.0)\n",
      "Note: you may need to restart the kernel to use updated packages.\n"
     ]
    }
   ],
   "source": [
    "pip install seaborn"
   ]
  },
  {
   "cell_type": "code",
   "execution_count": 5,
   "metadata": {},
   "outputs": [],
   "source": [
    "import seaborn as sns"
   ]
  },
  {
   "cell_type": "code",
   "execution_count": 6,
   "metadata": {},
   "outputs": [
    {
     "data": {
      "text/plain": [
       "array([ 7,  6,  9,  8, 10,  8,  9,  7,  9,  7,  9,  7,  8,  8,  7,  7,  9,\n",
       "        8,  9,  7,  6,  6,  9,  8,  8,  9,  8,  9,  7,  9,  9,  8, 10,  6,\n",
       "        9, 10,  5,  8,  5,  9,  7,  8,  6,  7,  7,  9,  9,  6,  8,  7,  8,\n",
       "       10,  6,  6,  8,  5, 10,  9,  8,  9,  8,  5, 10,  7,  9,  8,  8,  9,\n",
       "       10,  9,  7, 10,  8, 10,  7,  9,  7, 10,  8,  8,  7,  9,  8,  9,  6,\n",
       "        8,  7,  6, 10,  9, 10,  8, 10,  7,  7,  8,  7, 10,  8,  7])"
      ]
     },
     "execution_count": 6,
     "metadata": {},
     "output_type": "execute_result"
    }
   ],
   "source": [
    "from scipy.stats import binom\n",
    "data_binom = binom.rvs(n=10,p=0.8,size=100)\n",
    "data_binom\n"
   ]
  },
  {
   "cell_type": "code",
   "execution_count": 7,
   "metadata": {},
   "outputs": [
    {
     "data": {
      "text/plain": [
       "[Text(0, 0.5, 'Frequency'), Text(0.5, 0, 'Binomial Distribution')]"
      ]
     },
     "execution_count": 7,
     "metadata": {},
     "output_type": "execute_result"
    },
    {
     "data": {
      "image/png": "[encoded data removed]",
      "text/plain": [
       "<Figure size 432x288 with 1 Axes>"
      ]
     },
     "metadata": {
      "needs_background": "light"
     },
     "output_type": "display_data"
    }
   ],
   "source": [
    "ax = sns.distplot(data_binom,\n",
    " kde=False,\n",
    " color='blue')\n",
    "ax.set(xlabel='Binomial Distribution', ylabel='Frequency')"
   ]
  },
  {
   "cell_type": "code",
   "execution_count": 8,
   "metadata": {},
   "outputs": [
    {
     "data": {
      "text/plain": [
       "array([ 1.5506456 , -2.55190324, -0.96943004, -0.46670394, -1.42662385,\n",
       "        0.20579853,  1.59200985,  0.01758579, -0.28882274, -0.04389011,\n",
       "        1.09616853, -0.82995752,  1.28033155,  1.14098899, -0.58462923,\n",
       "       -0.07292322,  1.5478326 ,  2.82738906, -2.10840569,  0.86078984,\n",
       "       -0.21271697, -0.32393252,  0.70367452, -1.01563975,  0.32619207,\n",
       "        1.40790773,  0.11814377,  0.4283108 , -0.40011998, -0.44220491,\n",
       "        0.02804178,  0.79280696,  0.42636624,  1.73608364, -0.32318683,\n",
       "       -1.04764604,  0.63714126,  0.07928367, -0.81904715,  0.14646124,\n",
       "       -0.67371375, -0.75048785, -1.09178805,  0.24539588, -0.24546762,\n",
       "        1.39976999,  1.87898526, -0.06066321, -0.4295406 ,  0.02042608,\n",
       "       -1.07318236, -0.02012993,  1.14841042,  1.22041708,  0.2727774 ,\n",
       "       -0.30446129, -0.83507501, -0.31796218,  0.57458397, -0.81954457,\n",
       "        0.66841799, -3.11372513,  0.18840407,  0.3379241 , -1.22701637,\n",
       "        0.40166601,  0.65735231, -1.88852284, -0.24376809, -0.73952555,\n",
       "       -0.0053645 , -0.58464832, -0.16344265, -0.65239456, -0.34189664,\n",
       "        0.19597021, -0.97147459, -1.68191471,  1.55054917, -1.2019254 ,\n",
       "        1.62614673, -1.57585557, -0.23188688,  0.51551521, -0.22094456,\n",
       "        0.78371714, -1.20330606, -1.05888082, -1.33009957, -1.06435935,\n",
       "       -1.79754132,  2.6619517 ,  0.58446618, -1.19312173,  0.04099442,\n",
       "        0.84140756, -1.1709978 ,  0.34581141,  1.35386048,  0.25331937,\n",
       "       -1.16013226, -0.18346216,  1.82831158,  0.44533104, -0.64073046,\n",
       "       -0.63115393,  1.04949206, -1.30378742,  2.51650123, -0.22046344,\n",
       "        0.1778913 , -0.12122035,  1.24708158, -1.59974254,  1.57048216,\n",
       "       -0.43297387, -3.0493698 ,  0.2302079 , -0.87853648,  0.16447868,\n",
       "       -0.25536862, -0.78862526,  0.83452307,  1.59599734, -0.38313217,\n",
       "       -2.53475898,  0.72406885,  0.57815856, -0.01357143,  1.03055719,\n",
       "        0.22098043,  1.09283202, -0.45489876, -1.21942936,  0.57628179,\n",
       "       -0.20035621, -0.34155242,  0.92913374,  0.38268646, -0.58490478,\n",
       "        0.68558096,  0.92839289,  1.75661805,  0.73070421,  0.60179653,\n",
       "       -0.09034352, -0.49991037,  1.16180171, -1.11459271, -0.61838136,\n",
       "        1.75258518,  1.16382639, -0.36767782,  0.42575932,  1.31206046,\n",
       "        0.38887332,  0.02359444,  0.90797853,  0.87343037,  1.64039484,\n",
       "        1.28235593, -0.21035346, -0.91537673,  0.05178642,  0.52338771,\n",
       "       -0.83862659, -0.22481893, -0.42198892, -0.368224  , -0.02268868,\n",
       "        0.45209232,  0.38991438, -2.23421208, -0.67586907, -0.74129788,\n",
       "        0.26247641,  1.69800327,  0.22445025, -0.06257743, -1.51001149,\n",
       "       -0.99995099,  0.86409882,  0.16176324, -0.36501924, -1.09234191,\n",
       "       -0.7287196 ,  1.17816034, -0.67678088, -0.7029255 , -1.09918622,\n",
       "       -1.57487922,  1.1254395 ,  0.71673124, -1.08005204, -0.36579565,\n",
       "        0.37271879,  0.01346284, -1.03377888, -1.08544981,  1.05256132,\n",
       "        0.47417019, -0.60501746,  0.82644218,  0.08395428, -0.60786208,\n",
       "        0.29364186, -0.57999078,  0.17558861,  0.61915764,  0.12845679,\n",
       "       -1.72423642, -0.21487872,  0.02504367, -1.34608721,  0.69725807,\n",
       "        0.31954811, -1.48763792, -0.55210988, -0.25900999,  0.93148057,\n",
       "        0.0466725 , -1.26693302, -0.20114129, -1.57674208, -1.02186058,\n",
       "        0.38776876, -0.5957259 , -0.22810347, -1.36970468, -1.23627062,\n",
       "       -1.29367343, -0.62237627, -0.39822908,  0.60973656,  0.4405554 ,\n",
       "        0.54859788,  0.54300246,  0.5535225 , -1.53361158,  0.09916573,\n",
       "        1.69153557, -1.67371233,  2.07885612, -1.0948533 , -0.9195632 ,\n",
       "       -0.48342122,  0.61286337,  0.04425749, -0.29136157,  1.1132448 ,\n",
       "       -1.94532368,  0.08737521, -0.30656292, -1.18603591,  1.51626617,\n",
       "        0.8265909 ,  0.49148821, -0.69624537,  1.05264603,  0.73981159,\n",
       "       -0.05129171,  0.21587449,  0.33508823,  0.93207637, -0.63960972,\n",
       "       -1.2853954 ,  0.44520144,  2.02100787, -0.23312769, -0.37576358,\n",
       "       -0.38213844, -1.42827124, -0.63305378, -0.14244974,  2.92886988,\n",
       "        0.92066445,  0.25473998, -0.33514106,  0.28838897, -1.01305689,\n",
       "       -0.74065644, -0.28587608,  1.43379329, -0.38915833,  0.99092917,\n",
       "        0.58085981,  0.6624755 ,  1.84635095, -0.3835515 , -1.7526257 ,\n",
       "       -0.92236081,  0.45266041, -0.01576351,  0.20862012,  0.85892248,\n",
       "        1.33562979, -0.1147011 , -0.07355374, -1.48367219,  0.40574389,\n",
       "       -0.78497535,  0.84972538, -0.10561533,  0.17499882, -0.072033  ,\n",
       "        0.4279359 ,  0.69077885,  2.20615415, -1.92874341, -1.34399153,\n",
       "        0.65821192,  0.45696221, -0.22538152,  0.57091655, -0.89054939,\n",
       "       -0.23196895, -0.94232298,  0.93675851, -1.02059016, -0.3243487 ,\n",
       "        0.5166448 ,  0.75729655,  0.25146834, -1.0810936 ,  0.32024031,\n",
       "       -0.44372308, -0.29285607, -1.73140784, -0.28087833,  1.79059076,\n",
       "        0.41889629,  0.2219673 , -0.93917439, -0.00916552,  1.32660203,\n",
       "        0.35067256, -0.25906181,  0.48829968, -1.22046442, -0.27407067,\n",
       "        0.10892847,  0.86326361, -1.0521455 , -0.46149307, -0.75896306,\n",
       "        0.41609666, -0.08945987, -1.08988729, -1.30521456, -0.99652554,\n",
       "       -0.7261283 ,  0.53455086,  1.66033629,  0.64472302, -2.81342585,\n",
       "       -0.40092222, -1.10879387,  0.24530218, -0.97267314, -0.08184774,\n",
       "       -0.44758585, -1.9404953 ,  0.54334088,  0.06424061,  0.04909165,\n",
       "        0.42542647,  1.52224825, -1.3540789 ,  1.01873627, -0.02484988,\n",
       "       -0.47252612,  0.2146959 , -2.00791194, -0.44441089, -0.65570648,\n",
       "        1.74419077,  0.44680481, -1.7882603 ,  0.11698224,  0.03734184,\n",
       "       -0.6171337 , -1.02153489, -0.10026834, -1.49709391, -0.44958406,\n",
       "        0.46273747, -0.34648155,  0.94961793,  1.20878443, -0.14088232,\n",
       "       -1.67974328, -1.12407183, -1.60418131, -1.45965108, -1.76587432,\n",
       "       -1.29083248, -0.92477555,  0.96720364, -0.51987659, -0.71830868,\n",
       "        0.75147017, -0.24165957, -0.13491999,  0.67598606,  1.97915525,\n",
       "       -1.8416415 , -1.18511831, -0.23965983,  0.05784308,  1.09185214,\n",
       "       -0.62977397, -1.43204595,  1.20249083, -0.24358346,  0.10120807,\n",
       "        1.70370464,  0.67881516, -0.62651502,  1.03070945, -0.76693309,\n",
       "       -1.40419928,  0.30397928, -0.40348102, -0.03242205,  1.15506073,\n",
       "        0.24230613, -1.51666653, -0.36354951, -0.66816283, -1.24366596,\n",
       "        0.60613977, -1.42555529,  2.57492475,  0.71431505,  0.88070433,\n",
       "        0.77704197,  0.30295245,  2.21715959, -1.18078504,  1.02924847,\n",
       "        0.93865452, -0.36054119,  0.48268822,  0.41331886,  1.22117354,\n",
       "       -0.54765577,  1.48693193,  0.39545522,  0.39507583,  1.49649393,\n",
       "       -0.04286078,  0.50548967,  2.96967808,  0.82461408,  0.62884731,\n",
       "        0.16252242,  0.21907331, -0.51266513, -2.38757121,  1.87289722,\n",
       "        0.94314078, -0.99183764,  0.6656596 , -1.1656741 ,  0.31352554,\n",
       "       -0.49098297,  0.07054277, -0.61465288, -0.08485968, -1.00858194,\n",
       "        0.88334273,  0.50761951,  0.50785883,  1.58295364, -1.13566016,\n",
       "        1.82611065,  0.71968268, -0.09996622,  0.01117656, -0.96556246,\n",
       "        0.33326849,  0.31846396,  0.25408121, -0.59038178,  0.28686977,\n",
       "       -0.17747789, -1.17478518,  0.84221259, -0.88029557,  1.22996262,\n",
       "        1.00887803, -1.37446417, -0.80216763,  0.43774317, -0.48792926,\n",
       "        1.01566195, -1.2159589 ,  0.68125309, -1.61043641, -0.3522021 ,\n",
       "       -1.57584482, -0.67027711, -1.0366805 ,  0.34623252, -0.63769105,\n",
       "       -0.79057812,  0.76734967,  0.15760578, -0.86687963,  0.14173976,\n",
       "       -1.40543597, -1.02876032, -0.79510293, -1.52127877, -0.56103517,\n",
       "        0.30084751,  2.62790532,  0.24188987,  0.03146032, -0.0067211 ,\n",
       "       -0.693089  ,  0.07319212, -0.79009963, -1.06868779, -0.6769934 ,\n",
       "       -0.08187477, -0.53195905,  2.65150876, -1.76391826,  0.59669242,\n",
       "        1.49409201,  0.12203561, -0.3475473 ,  0.09910524, -1.28645944,\n",
       "       -1.02417409,  1.45878077,  0.07074173, -1.29746913, -0.74072408,\n",
       "       -1.46179138, -1.38368375, -0.72665917,  0.08528258, -0.42265314,\n",
       "        0.8329819 , -1.36698123, -2.60865111, -1.89422773, -0.42254149,\n",
       "       -1.86022694,  0.4555691 ,  1.79727801, -0.24339918,  0.51758205,\n",
       "        0.62288722, -0.58584417, -0.57002643, -1.69789083,  0.11541911,\n",
       "        2.90247138, -0.16387955, -0.20998904,  0.78837899, -0.11068758,\n",
       "       -0.18459652,  0.29068704,  1.9632662 ,  1.70912958, -0.03690768,\n",
       "       -0.13151528, -0.04928894,  0.94495982,  0.18478663,  0.57354262,\n",
       "        0.90278229,  1.15887388, -1.50734719, -0.76106811,  0.39098646,\n",
       "       -0.55889296,  1.38100828,  1.19269365, -0.36772248,  0.63051716,\n",
       "        0.21865995,  0.25497089,  0.29121649, -0.69607441, -0.64955133,\n",
       "       -0.35237965,  0.3145483 ,  0.04065899, -0.08011734, -1.32611067,\n",
       "       -1.6784149 , -0.65976694, -0.6517456 , -0.42988917,  0.35885301,\n",
       "       -0.08038617,  0.80497656, -1.04671298,  0.71343277, -1.65132643,\n",
       "       -1.47597301, -0.00530403, -0.89642527,  1.77505662, -2.64009758,\n",
       "        0.64864841, -0.0093964 , -0.35281586,  1.30373928, -0.87143246,\n",
       "        0.98232949, -0.5925798 , -1.36203208, -0.64058191, -0.3744515 ,\n",
       "        2.09089202,  2.16746153,  0.75101812, -1.22773423,  0.46840284,\n",
       "        1.85124925, -0.40886735, -0.23664251, -1.50210253, -1.11805445,\n",
       "        1.28279559,  0.61979023,  0.47041901, -0.13779525,  0.784986  ,\n",
       "        0.84418297,  1.06114526, -0.82806785, -0.16803892,  2.32564664,\n",
       "        0.05436817, -0.49258667, -0.90697676, -0.16736116,  0.86862293,\n",
       "        1.62123427,  0.2620779 , -1.0427803 ,  0.26229611, -1.9985776 ,\n",
       "       -0.1819627 , -0.24613553, -0.33481682,  0.87923462,  0.65749217,\n",
       "       -0.43435283,  1.1448225 , -0.49125998,  2.54361179, -1.27500455,\n",
       "        1.14908588,  0.22666953, -1.14469326,  0.06257742, -1.18097027,\n",
       "       -0.02529853,  1.88807675,  0.50229866, -1.23977273,  0.00413699,\n",
       "       -0.27073267, -0.59865491,  0.37205953,  0.27351123,  0.26232032,\n",
       "        0.27677349,  0.31817279, -2.08350597,  0.52149311, -0.94777937,\n",
       "       -0.17917176, -1.50050644,  0.19635113, -0.71000689,  0.65790476,\n",
       "        0.10118473,  0.51011521,  0.18938586, -0.3629669 ,  0.90834249,\n",
       "       -1.67471443,  0.15713239,  0.34693894,  1.02346227, -0.9641762 ,\n",
       "        1.12548805,  0.00781463, -0.11863294, -1.14309632,  0.41647466,\n",
       "       -0.36005273,  1.15240389, -1.11194773,  0.38987829,  0.98367917,\n",
       "       -1.42263534,  0.14851495, -0.52982166, -0.49195605, -0.15595719,\n",
       "       -0.79330585, -0.64221496,  0.29791431,  1.33204329, -0.67354613,\n",
       "        0.57895964, -1.30395637, -0.19403357,  1.64741458,  0.48638574,\n",
       "       -0.71175321,  0.49397195,  0.68524367,  2.24086492, -0.32804644,\n",
       "        0.26014071, -0.72312615,  0.11659831,  0.15525642, -0.18826099,\n",
       "        0.13057731,  0.60098844,  0.91845762,  0.17837061, -1.40495928,\n",
       "       -0.38088759,  1.09557965, -1.05318867,  0.62426797,  0.25842647,\n",
       "        0.10610448, -0.45177303,  0.24871444, -1.363829  , -0.36924474,\n",
       "        0.75466899, -0.39032367,  1.1166522 , -0.37089201,  0.56870822,\n",
       "       -0.62583615,  0.64334183,  1.64423745,  1.47923867,  0.71685389,\n",
       "        1.35917646,  0.77551657,  0.01255294, -0.88405613,  1.23466925,\n",
       "        0.35797044, -0.79928482, -1.26969562,  0.14687347,  0.02247464,\n",
       "        0.62119653,  0.73851779, -0.51267109, -0.29925556,  0.37720291,\n",
       "        0.68888919, -0.09943359,  0.8908376 , -1.85278463,  0.28934641,\n",
       "        0.2745967 , -0.59082401,  1.88063193, -0.40621234,  1.725566  ,\n",
       "       -0.96038955,  0.99029458,  1.08294494,  0.66054911,  0.21116125,\n",
       "        0.1528678 , -1.6591683 ,  2.07252041,  1.62054181,  1.04783316,\n",
       "        0.43296425, -0.23526459,  1.58760872,  1.08956667,  0.65276186,\n",
       "       -0.49462075, -0.21663129,  0.82925187, -0.99772552, -0.56736433,\n",
       "       -0.87348985,  0.32862894,  0.86697437, -1.11927182,  2.53313877,\n",
       "        0.91840773,  0.13998704, -1.08504641, -1.24806015, -1.47578933,\n",
       "        1.08680498, -0.99118015,  0.11033229,  1.00194575,  1.51599721,\n",
       "        0.58471279,  0.92971096, -1.80409611,  0.97920632,  2.20271227,\n",
       "        0.87344552, -1.78878917, -0.42095956, -0.47292704,  1.79562165,\n",
       "        0.86950984, -1.18919211, -1.04756532, -0.70803711,  0.12147531,\n",
       "       -0.17381149, -0.67484569,  0.73290495, -0.70100523,  0.14705567,\n",
       "        0.13895652,  0.05225511, -1.45072794, -1.53549404, -0.35221701,\n",
       "       -0.38596488, -0.80845034, -0.33220118, -2.17691346, -0.19024921,\n",
       "       -2.56856996,  1.1118111 , -0.66106335,  0.6079143 , -0.11923162,\n",
       "        0.06527786,  0.79747274, -1.39124947, -1.39606364,  0.71608028,\n",
       "       -0.64141932, -0.64783413, -0.18697907, -0.21346429,  1.50033301,\n",
       "        1.36754753,  0.87280376, -0.37777137,  1.25408232,  0.44311598,\n",
       "       -1.12477444, -0.12124519,  0.25285393, -1.6928558 , -1.58667186,\n",
       "       -1.3673216 , -0.82533548,  0.31095758, -0.81791556, -1.33502357,\n",
       "       -0.97553841, -0.53683649,  0.13578279,  0.76091374,  0.1882776 ,\n",
       "       -0.45624687, -0.57473313, -1.74064269,  0.48129162, -0.30454074,\n",
       "        1.91963138, -1.93134807, -0.79701352, -0.34728311,  0.55114822,\n",
       "       -1.09958356,  0.7231552 ,  0.9203814 , -0.92750444, -2.08723106,\n",
       "        0.24802898,  0.52875863, -2.3534057 ,  0.67475746, -0.29822538,\n",
       "       -0.01445519,  0.72882277, -0.88615938,  0.93962254, -1.43891326,\n",
       "        0.70733372, -0.36421021, -0.53523678, -0.99481202,  0.05335331,\n",
       "       -0.06099305, -0.38761614,  0.41279381,  1.17475947, -1.11355966,\n",
       "       -0.05960123, -1.46848465, -1.23197488,  0.20786829, -0.66095905,\n",
       "        0.1380268 ,  0.24394533,  0.66337454, -1.48040565,  0.41647938,\n",
       "       -0.77640132, -2.03975576,  0.24459783, -0.71608972,  0.01389983,\n",
       "       -0.61304652, -1.73086513,  0.04412423, -0.24337577,  0.87239386,\n",
       "        0.05733185,  2.05780805, -1.02029195, -0.63987195, -1.0964238 ,\n",
       "        0.39033186,  0.01444208, -2.69938478, -0.82468731, -0.40594996,\n",
       "       -0.08694167,  0.64829659,  0.44314482, -0.43169386, -0.57341288,\n",
       "        0.32315847,  1.04880415, -1.20546374,  0.7298905 ,  0.80105125,\n",
       "       -1.13640587,  0.40326068,  0.78747651,  0.88370471, -0.20621189,\n",
       "        0.41070509,  0.4387768 , -0.70738128,  0.35581983,  1.24125553,\n",
       "        0.65897894, -0.54707255, -0.30699224, -0.63603594,  0.47651638,\n",
       "       -0.96046467,  0.6169598 ,  1.51554055,  0.2849302 , -0.38896659,\n",
       "        1.52490655, -0.98121232,  1.61713899,  0.98240776,  0.57955243,\n",
       "        0.19449474, -2.68585615, -0.40933116, -2.1174825 , -1.00793686,\n",
       "       -1.08473125, -1.19379419,  0.58279674,  1.27239841, -0.32881874,\n",
       "        0.96728182, -0.07097212,  1.17762687, -0.64869266, -0.03568892,\n",
       "       -0.9198641 , -0.99381798, -0.41062637,  0.58643758,  1.37622551])"
      ]
     },
     "execution_count": 8,
     "metadata": {},
     "output_type": "execute_result"
    }
   ],
   "source": [
    "from scipy.stats import norm\n",
    "# generate random numbers from N(0,1)\n",
    "data_normal = norm.rvs(size=1000,loc=0,scale=1)\n",
    "data_normal"
   ]
  },
  {
   "cell_type": "code",
   "execution_count": 9,
   "metadata": {},
   "outputs": [
    {
     "data": {
      "text/plain": [
       "[Text(0, 0.5, 'Frequency'), Text(0.5, 0, 'Normal Distribution')]"
      ]
     },
     "execution_count": 9,
     "metadata": {},
     "output_type": "execute_result"
    },
    {
     "data": {
      "image/png": "[encoded data removed]",
      "text/plain": [
       "<Figure size 432x288 with 1 Axes>"
      ]
     },
     "metadata": {
      "needs_background": "light"
     },
     "output_type": "display_data"
    }
   ],
   "source": [
    "ax = sns.distplot(data_normal,\n",
    " bins=100,\n",
    " kde=True)\n",
    "ax.set(xlabel='Normal Distribution', ylabel='Frequency')"
   ]
  },
  {
   "cell_type": "code",
   "execution_count": null,
   "metadata": {},
   "outputs": [],
   "source": []
  }
 ],
 "metadata": {
  "kernelspec": {
   "display_name": "Python 3",
   "language": "python",
   "name": "python3"
  },
  "language_info": {
   "codemirror_mode": {
    "name": "ipython",
    "version": 3
   },
   "file_extension": ".py",
   "mimetype": "text/x-python",
   "name": "python",
   "nbconvert_exporter": "python",
   "pygments_lexer": "ipython3",
   "version": "3.8.3"
  }
 },
 "nbformat": 4,
 "nbformat_minor": 4
}
